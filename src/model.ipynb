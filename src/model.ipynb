{
  "cells": [
    {
      "cell_type": "markdown",
      "metadata": {
        "id": "4NAzDlIk7Xxw"
      },
      "source": [
        "## モデルの学習を行うプログラム"
      ]
    },
    {
      "cell_type": "code",
      "execution_count": null,
      "metadata": {
        "colab": {
          "base_uri": "https://localhost:8080/"
        },
        "id": "fAn8A4fp_N55",
        "outputId": "f70affa3-e083-4ed0-b13f-b758d2661115"
      },
      "outputs": [
        {
          "name": "stdout",
          "output_type": "stream",
          "text": [
            "Mounted at /content/drive\n"
          ]
        }
      ],
      "source": [
        "#Googleドライブにアクセスできるようにする\n",
        "from google.colab import drive\n",
        "drive.mount(\"/content/drive\")"
      ]
    },
    {
      "cell_type": "code",
      "execution_count": null,
      "metadata": {
        "colab": {
          "base_uri": "https://localhost:8080/"
        },
        "id": "Ni5AoAsT_TNU",
        "outputId": "d1cbd700-5932-409b-e6e7-4456c9803b75"
      },
      "outputs": [
        {
          "name": "stdout",
          "output_type": "stream",
          "text": [
            "/content/drive/MyDrive/UmaMusume_detection\n"
          ]
        }
      ],
      "source": [
        "% cd /content/drive/MyDrive/UmaMusume_detection"
      ]
    },
    {
      "cell_type": "code",
      "execution_count": null,
      "metadata": {
        "colab": {
          "base_uri": "https://localhost:8080/"
        },
        "id": "8DL0Sx6hBULn",
        "outputId": "c42dc30d-5949-45e6-8b37-816c5de4d984"
      },
      "outputs": [
        {
          "name": "stdout",
          "output_type": "stream",
          "text": [
            "{'elcondorpasa': 0, 'grasswonder': 1, 'kinghalo': 2, 'seiunsky': 3, 'specialweek': 4}\n",
            "{'elcondorpasa': 0, 'grasswonder': 1, 'kinghalo': 2, 'seiunsky': 3, 'specialweek': 4}\n"
          ]
        }
      ],
      "source": [
        "#必要なライブラリの読み込み\n",
        "from torchvision import transforms\n",
        "from torchvision.datasets import ImageFolder\n",
        "from torch.utils.data import DataLoader, Dataset\n",
        "\n",
        "#訓練用の画像とテスト用の画像が格納されているディレクトリのパス\n",
        "train_path = \"train_data_augment/\"\n",
        "test_path = \"test_data/\"\n",
        "\n",
        "#Transformを作成する。\n",
        "transform = transforms.Compose([transforms.ToTensor(), transforms.Normalize((0.5, 0.5, 0.5), (0.5, 0.5, 0.5))])\n",
        "\n",
        "#ImageFolderのインスタンス生成\n",
        "train_set = ImageFolder(root=train_path, # 画像が保存されているフォルダのパス\n",
        "                       transform=transform) # Tensorへの変換\n",
        "\n",
        "test_set = ImageFolder(root=test_path, # 画像が保存されているフォルダのパス\n",
        "                       transform=transform) # Tensorへの変換\n",
        "\n",
        "print(train_set.class_to_idx)\n",
        "print(test_set.class_to_idx)\n",
        "\n",
        "#DataLoaderを作成する。\n",
        "train_loader = DataLoader(train_set, batch_size=64)\n",
        "test_loader = DataLoader(test_set, batch_size=64)"
      ]
    },
    {
      "cell_type": "code",
      "execution_count": null,
      "metadata": {
        "id": "QA43Uh81fw68"
      },
      "outputs": [],
      "source": [
        "#必要なライブラリの読み込み\n",
        "import torch\n",
        "import torch.nn as nn\n",
        "import torch.optim as optim\n",
        "import torch.nn.functional as F\n",
        "from torchvision import datasets\n",
        "from torchsummary import summary\n",
        "import numpy as np\n",
        "\n",
        "#モデルの定義\n",
        "class CNN(nn.Module):\n",
        "  def __init__(self):\n",
        "    super(CNN, self).__init__()\n",
        "    self.cn1 = nn.Conv2d(3, 6, 5)\n",
        "    self.pool1 = nn.MaxPool2d(2, 2)\n",
        "    self.cn2 = nn.Conv2d(6, 16, 5)\n",
        "    self.pool2 = nn.MaxPool2d(2, 2)\n",
        "    self.cn3 = nn.Conv2d(16, 32, 4)\n",
        "    self.dropout = nn.Dropout2d()\n",
        "    self.fc1 = nn.Linear(32*10*10, 120)\n",
        "    self.fc2 = nn.Linear(120, 84)\n",
        "    self.fc3 = nn.Linear(84, 5)\n",
        "  \n",
        "  def forward(self, x):\n",
        "    x = F.relu(self.cn1(x))\n",
        "    x = self.pool1(x)\n",
        "    x = F.relu(self.cn2(x))\n",
        "    x = self.pool2(x)\n",
        "    x = F.relu(self.cn3(x))\n",
        "    x = self.dropout(x)\n",
        "    x = x.view(-1, 32*10*10)\n",
        "    x = F.relu(self.fc1(x))\n",
        "    x = F.relu(self.fc2(x))\n",
        "    x = self.fc3(x)\n",
        "        \n",
        "    return x"
      ]
    },
    {
      "cell_type": "code",
      "execution_count": null,
      "metadata": {
        "id": "vLAQ1n6yOMGq"
      },
      "outputs": [],
      "source": [
        "#1エポックの学習を行う関数\n",
        "def train_epoch(model, optimizer, criterion, train_loader, epoch):\n",
        "\n",
        "  train_loss = 0\n",
        "  model.train()\n",
        "\n",
        "  for i, (images, labels) in enumerate(train_loader):\n",
        "    images, labels = images, labels\n",
        "    optimizer.zero_grad()\n",
        "    outputs = model(images)\n",
        "    loss = criterion(outputs, labels)\n",
        "    loss.backward()\n",
        "    optimizer.step()\n",
        "    train_loss += loss.item()\n",
        "  \n",
        "  #train lossを計算\n",
        "  train_loss = train_loss / len(train_loader.dataset)\n",
        "\n",
        "  #学習済みのモデルを保存\n",
        "  outfile = \"cnn-\" + str(epoch) + \".model\"\n",
        "  torch.save(model.state_dict(), outfile) \n",
        "  print(outfile,\" saved\")\n",
        "  \n",
        "  return train_loss"
      ]
    },
    {
      "cell_type": "code",
      "execution_count": null,
      "metadata": {
        "id": "d_YMiOvqO4jg"
      },
      "outputs": [],
      "source": [
        "#推論を行うための関数\n",
        "def inference(model, optimizer, criterion, test_loader):\n",
        "\n",
        "  model.eval()\n",
        "  test_loss=0\n",
        "  correct=0\n",
        "\n",
        "  with torch.no_grad():\n",
        "    for i, (images, labels) in enumerate(test_loader):\n",
        "      images, labels = images, labels\n",
        "      outputs = model(images)\n",
        "      loss = criterion(outputs, labels)\n",
        "      test_loss += loss.item()\n",
        "      pred = outputs.argmax(dim=1, keepdim=True)\n",
        "      correct += pred.eq(labels.view_as(pred)).sum().item()\n",
        "\n",
        "    #test lossを計算\n",
        "    test_loss = test_loss / len(test_loader.dataset)\n",
        "    #Accuracyを計算\n",
        "    accuracy = correct / len(test_loader.dataset)\n",
        "    \n",
        "  return test_loss, accuracy"
      ]
    },
    {
      "cell_type": "code",
      "execution_count": null,
      "metadata": {
        "id": "Z9Ns5AkoP7s_"
      },
      "outputs": [],
      "source": [
        "#学習と推論を行うための関数\n",
        "def run(num_epochs, model, optimizer, criterion, train_loader, test_loader):\n",
        "\n",
        "  train_loss_list = [] #各エポックごとのtrain lossを格納するリスト\n",
        "  test_loss_list = [] #各エポックごとのtest lossを格納するリスト\n",
        "  accuracy_list = [] #各エポックごとのAccuracyを格納するリスト\n",
        "  epoch_list = [] #エポック数を格納するリスト\n",
        "\n",
        "  #学習と推論を行う関数を呼び出す\n",
        "  for epoch in range(num_epochs):\n",
        "    train_loss = train_epoch(model, optimizer, criterion, train_loader, epoch)\n",
        "    test_loss, accuracy = inference(model, optimizer, criterion, test_loader)\n",
        "\n",
        "    print(f'Epoch [{epoch+1}], train_Loss : {train_loss:.4f}, test_Loss : {test_loss:.4f}, Accuracy : {accuracy:4f}')\n",
        "\n",
        "    #それぞれのリストに実行結果を格納\n",
        "    train_loss_list.append(train_loss)\n",
        "    test_loss_list.append(test_loss)\n",
        "    accuracy_list.append(accuracy)\n",
        "    epoch_list.append(epoch+1)\n",
        "  \n",
        "  return train_loss_list, test_loss_list, accuracy_list, epoch_list"
      ]
    },
    {
      "cell_type": "code",
      "execution_count": null,
      "metadata": {
        "colab": {
          "base_uri": "https://localhost:8080/"
        },
        "id": "pbgB3xf2QnCP",
        "outputId": "d6452f60-05a0-4cbc-8a99-1c94ba682205"
      },
      "outputs": [
        {
          "name": "stdout",
          "output_type": "stream",
          "text": [
            "cnn-0.model  saved\n",
            "Epoch [1], train_Loss : 0.0254, test_Loss : 0.0280, Accuracy : 0.190476\n",
            "cnn-1.model  saved\n",
            "Epoch [2], train_Loss : 0.0253, test_Loss : 0.0280, Accuracy : 0.190476\n",
            "cnn-2.model  saved\n",
            "Epoch [3], train_Loss : 0.0252, test_Loss : 0.0279, Accuracy : 0.190476\n",
            "cnn-3.model  saved\n",
            "Epoch [4], train_Loss : 0.0252, test_Loss : 0.0279, Accuracy : 0.190476\n",
            "cnn-4.model  saved\n",
            "Epoch [5], train_Loss : 0.0251, test_Loss : 0.0278, Accuracy : 0.212121\n",
            "cnn-5.model  saved\n",
            "Epoch [6], train_Loss : 0.0250, test_Loss : 0.0276, Accuracy : 0.354978\n",
            "cnn-6.model  saved\n",
            "Epoch [7], train_Loss : 0.0248, test_Loss : 0.0273, Accuracy : 0.419913\n",
            "cnn-7.model  saved\n",
            "Epoch [8], train_Loss : 0.0244, test_Loss : 0.0269, Accuracy : 0.424242\n",
            "cnn-8.model  saved\n",
            "Epoch [9], train_Loss : 0.0239, test_Loss : 0.0263, Accuracy : 0.424242\n",
            "cnn-9.model  saved\n",
            "Epoch [10], train_Loss : 0.0233, test_Loss : 0.0256, Accuracy : 0.411255\n",
            "cnn-10.model  saved\n",
            "Epoch [11], train_Loss : 0.0225, test_Loss : 0.0249, Accuracy : 0.411255\n",
            "cnn-11.model  saved\n",
            "Epoch [12], train_Loss : 0.0217, test_Loss : 0.0242, Accuracy : 0.411255\n",
            "cnn-12.model  saved\n",
            "Epoch [13], train_Loss : 0.0208, test_Loss : 0.0234, Accuracy : 0.424242\n",
            "cnn-13.model  saved\n",
            "Epoch [14], train_Loss : 0.0199, test_Loss : 0.0226, Accuracy : 0.445887\n",
            "cnn-14.model  saved\n",
            "Epoch [15], train_Loss : 0.0189, test_Loss : 0.0216, Accuracy : 0.493506\n",
            "cnn-15.model  saved\n",
            "Epoch [16], train_Loss : 0.0180, test_Loss : 0.0204, Accuracy : 0.515152\n",
            "cnn-16.model  saved\n",
            "Epoch [17], train_Loss : 0.0170, test_Loss : 0.0193, Accuracy : 0.554113\n",
            "cnn-17.model  saved\n",
            "Epoch [18], train_Loss : 0.0159, test_Loss : 0.0181, Accuracy : 0.601732\n",
            "cnn-18.model  saved\n",
            "Epoch [19], train_Loss : 0.0151, test_Loss : 0.0168, Accuracy : 0.623377\n",
            "cnn-19.model  saved\n",
            "Epoch [20], train_Loss : 0.0142, test_Loss : 0.0157, Accuracy : 0.675325\n",
            "cnn-20.model  saved\n",
            "Epoch [21], train_Loss : 0.0132, test_Loss : 0.0145, Accuracy : 0.701299\n",
            "cnn-21.model  saved\n",
            "Epoch [22], train_Loss : 0.0123, test_Loss : 0.0135, Accuracy : 0.714286\n",
            "cnn-22.model  saved\n",
            "Epoch [23], train_Loss : 0.0116, test_Loss : 0.0126, Accuracy : 0.731602\n",
            "cnn-23.model  saved\n",
            "Epoch [24], train_Loss : 0.0109, test_Loss : 0.0118, Accuracy : 0.753247\n",
            "cnn-24.model  saved\n",
            "Epoch [25], train_Loss : 0.0103, test_Loss : 0.0110, Accuracy : 0.787879\n",
            "cnn-25.model  saved\n",
            "Epoch [26], train_Loss : 0.0097, test_Loss : 0.0104, Accuracy : 0.800866\n",
            "cnn-26.model  saved\n",
            "Epoch [27], train_Loss : 0.0092, test_Loss : 0.0098, Accuracy : 0.796537\n",
            "cnn-27.model  saved\n",
            "Epoch [28], train_Loss : 0.0088, test_Loss : 0.0092, Accuracy : 0.805195\n",
            "cnn-28.model  saved\n",
            "Epoch [29], train_Loss : 0.0083, test_Loss : 0.0088, Accuracy : 0.805195\n",
            "cnn-29.model  saved\n",
            "Epoch [30], train_Loss : 0.0079, test_Loss : 0.0083, Accuracy : 0.813853\n",
            "cnn-30.model  saved\n",
            "Epoch [31], train_Loss : 0.0077, test_Loss : 0.0081, Accuracy : 0.813853\n",
            "cnn-31.model  saved\n",
            "Epoch [32], train_Loss : 0.0074, test_Loss : 0.0077, Accuracy : 0.813853\n",
            "cnn-32.model  saved\n",
            "Epoch [33], train_Loss : 0.0071, test_Loss : 0.0074, Accuracy : 0.831169\n",
            "cnn-33.model  saved\n",
            "Epoch [34], train_Loss : 0.0069, test_Loss : 0.0071, Accuracy : 0.835498\n",
            "cnn-34.model  saved\n",
            "Epoch [35], train_Loss : 0.0066, test_Loss : 0.0068, Accuracy : 0.835498\n",
            "cnn-35.model  saved\n",
            "Epoch [36], train_Loss : 0.0064, test_Loss : 0.0066, Accuracy : 0.835498\n",
            "cnn-36.model  saved\n",
            "Epoch [37], train_Loss : 0.0063, test_Loss : 0.0064, Accuracy : 0.835498\n",
            "cnn-37.model  saved\n",
            "Epoch [38], train_Loss : 0.0061, test_Loss : 0.0062, Accuracy : 0.835498\n",
            "cnn-38.model  saved\n",
            "Epoch [39], train_Loss : 0.0060, test_Loss : 0.0060, Accuracy : 0.848485\n",
            "cnn-39.model  saved\n",
            "Epoch [40], train_Loss : 0.0058, test_Loss : 0.0058, Accuracy : 0.861472\n",
            "cnn-40.model  saved\n",
            "Epoch [41], train_Loss : 0.0057, test_Loss : 0.0057, Accuracy : 0.861472\n",
            "cnn-41.model  saved\n",
            "Epoch [42], train_Loss : 0.0055, test_Loss : 0.0055, Accuracy : 0.865801\n",
            "cnn-42.model  saved\n",
            "Epoch [43], train_Loss : 0.0054, test_Loss : 0.0055, Accuracy : 0.865801\n",
            "cnn-43.model  saved\n",
            "Epoch [44], train_Loss : 0.0053, test_Loss : 0.0053, Accuracy : 0.870130\n",
            "cnn-44.model  saved\n",
            "Epoch [45], train_Loss : 0.0052, test_Loss : 0.0052, Accuracy : 0.870130\n",
            "cnn-45.model  saved\n",
            "Epoch [46], train_Loss : 0.0052, test_Loss : 0.0051, Accuracy : 0.883117\n",
            "cnn-46.model  saved\n",
            "Epoch [47], train_Loss : 0.0050, test_Loss : 0.0050, Accuracy : 0.883117\n",
            "cnn-47.model  saved\n",
            "Epoch [48], train_Loss : 0.0049, test_Loss : 0.0049, Accuracy : 0.891775\n",
            "cnn-48.model  saved\n",
            "Epoch [49], train_Loss : 0.0048, test_Loss : 0.0047, Accuracy : 0.900433\n",
            "cnn-49.model  saved\n",
            "Epoch [50], train_Loss : 0.0047, test_Loss : 0.0046, Accuracy : 0.904762\n",
            "cnn-50.model  saved\n",
            "Epoch [51], train_Loss : 0.0047, test_Loss : 0.0046, Accuracy : 0.904762\n",
            "cnn-51.model  saved\n",
            "Epoch [52], train_Loss : 0.0046, test_Loss : 0.0045, Accuracy : 0.904762\n",
            "cnn-52.model  saved\n",
            "Epoch [53], train_Loss : 0.0045, test_Loss : 0.0043, Accuracy : 0.904762\n",
            "cnn-53.model  saved\n",
            "Epoch [54], train_Loss : 0.0045, test_Loss : 0.0043, Accuracy : 0.904762\n",
            "cnn-54.model  saved\n",
            "Epoch [55], train_Loss : 0.0043, test_Loss : 0.0042, Accuracy : 0.904762\n",
            "cnn-55.model  saved\n",
            "Epoch [56], train_Loss : 0.0043, test_Loss : 0.0041, Accuracy : 0.904762\n",
            "cnn-56.model  saved\n",
            "Epoch [57], train_Loss : 0.0042, test_Loss : 0.0041, Accuracy : 0.904762\n",
            "cnn-57.model  saved\n",
            "Epoch [58], train_Loss : 0.0042, test_Loss : 0.0040, Accuracy : 0.909091\n",
            "cnn-58.model  saved\n",
            "Epoch [59], train_Loss : 0.0041, test_Loss : 0.0039, Accuracy : 0.913420\n",
            "cnn-59.model  saved\n",
            "Epoch [60], train_Loss : 0.0039, test_Loss : 0.0038, Accuracy : 0.909091\n",
            "cnn-60.model  saved\n",
            "Epoch [61], train_Loss : 0.0040, test_Loss : 0.0037, Accuracy : 0.913420\n",
            "cnn-61.model  saved\n",
            "Epoch [62], train_Loss : 0.0039, test_Loss : 0.0037, Accuracy : 0.913420\n",
            "cnn-62.model  saved\n",
            "Epoch [63], train_Loss : 0.0039, test_Loss : 0.0036, Accuracy : 0.913420\n",
            "cnn-63.model  saved\n",
            "Epoch [64], train_Loss : 0.0038, test_Loss : 0.0036, Accuracy : 0.913420\n",
            "cnn-64.model  saved\n",
            "Epoch [65], train_Loss : 0.0038, test_Loss : 0.0035, Accuracy : 0.917749\n",
            "cnn-65.model  saved\n",
            "Epoch [66], train_Loss : 0.0037, test_Loss : 0.0035, Accuracy : 0.917749\n",
            "cnn-66.model  saved\n",
            "Epoch [67], train_Loss : 0.0036, test_Loss : 0.0034, Accuracy : 0.917749\n",
            "cnn-67.model  saved\n",
            "Epoch [68], train_Loss : 0.0036, test_Loss : 0.0033, Accuracy : 0.917749\n",
            "cnn-68.model  saved\n",
            "Epoch [69], train_Loss : 0.0036, test_Loss : 0.0033, Accuracy : 0.917749\n",
            "cnn-69.model  saved\n",
            "Epoch [70], train_Loss : 0.0035, test_Loss : 0.0032, Accuracy : 0.917749\n",
            "cnn-70.model  saved\n",
            "Epoch [71], train_Loss : 0.0035, test_Loss : 0.0032, Accuracy : 0.922078\n",
            "cnn-71.model  saved\n",
            "Epoch [72], train_Loss : 0.0034, test_Loss : 0.0031, Accuracy : 0.926407\n",
            "cnn-72.model  saved\n",
            "Epoch [73], train_Loss : 0.0034, test_Loss : 0.0031, Accuracy : 0.930736\n",
            "cnn-73.model  saved\n",
            "Epoch [74], train_Loss : 0.0033, test_Loss : 0.0030, Accuracy : 0.926407\n",
            "cnn-74.model  saved\n",
            "Epoch [75], train_Loss : 0.0032, test_Loss : 0.0030, Accuracy : 0.926407\n",
            "cnn-75.model  saved\n",
            "Epoch [76], train_Loss : 0.0032, test_Loss : 0.0030, Accuracy : 0.926407\n",
            "cnn-76.model  saved\n",
            "Epoch [77], train_Loss : 0.0032, test_Loss : 0.0029, Accuracy : 0.930736\n",
            "cnn-77.model  saved\n",
            "Epoch [78], train_Loss : 0.0031, test_Loss : 0.0029, Accuracy : 0.935065\n",
            "cnn-78.model  saved\n",
            "Epoch [79], train_Loss : 0.0031, test_Loss : 0.0028, Accuracy : 0.935065\n",
            "cnn-79.model  saved\n",
            "Epoch [80], train_Loss : 0.0031, test_Loss : 0.0028, Accuracy : 0.935065\n",
            "cnn-80.model  saved\n",
            "Epoch [81], train_Loss : 0.0031, test_Loss : 0.0027, Accuracy : 0.935065\n",
            "cnn-81.model  saved\n",
            "Epoch [82], train_Loss : 0.0030, test_Loss : 0.0027, Accuracy : 0.943723\n",
            "cnn-82.model  saved\n",
            "Epoch [83], train_Loss : 0.0030, test_Loss : 0.0026, Accuracy : 0.943723\n",
            "cnn-83.model  saved\n",
            "Epoch [84], train_Loss : 0.0030, test_Loss : 0.0026, Accuracy : 0.939394\n",
            "cnn-84.model  saved\n",
            "Epoch [85], train_Loss : 0.0030, test_Loss : 0.0026, Accuracy : 0.943723\n",
            "cnn-85.model  saved\n",
            "Epoch [86], train_Loss : 0.0028, test_Loss : 0.0025, Accuracy : 0.943723\n",
            "cnn-86.model  saved\n",
            "Epoch [87], train_Loss : 0.0028, test_Loss : 0.0025, Accuracy : 0.943723\n",
            "cnn-87.model  saved\n",
            "Epoch [88], train_Loss : 0.0027, test_Loss : 0.0024, Accuracy : 0.943723\n",
            "cnn-88.model  saved\n",
            "Epoch [89], train_Loss : 0.0027, test_Loss : 0.0025, Accuracy : 0.948052\n",
            "cnn-89.model  saved\n",
            "Epoch [90], train_Loss : 0.0026, test_Loss : 0.0024, Accuracy : 0.952381\n",
            "cnn-90.model  saved\n",
            "Epoch [91], train_Loss : 0.0027, test_Loss : 0.0024, Accuracy : 0.952381\n",
            "cnn-91.model  saved\n",
            "Epoch [92], train_Loss : 0.0027, test_Loss : 0.0023, Accuracy : 0.956710\n",
            "cnn-92.model  saved\n",
            "Epoch [93], train_Loss : 0.0026, test_Loss : 0.0024, Accuracy : 0.948052\n",
            "cnn-93.model  saved\n",
            "Epoch [94], train_Loss : 0.0026, test_Loss : 0.0023, Accuracy : 0.956710\n",
            "cnn-94.model  saved\n",
            "Epoch [95], train_Loss : 0.0025, test_Loss : 0.0023, Accuracy : 0.956710\n",
            "cnn-95.model  saved\n",
            "Epoch [96], train_Loss : 0.0025, test_Loss : 0.0022, Accuracy : 0.956710\n",
            "cnn-96.model  saved\n",
            "Epoch [97], train_Loss : 0.0026, test_Loss : 0.0022, Accuracy : 0.961039\n",
            "cnn-97.model  saved\n",
            "Epoch [98], train_Loss : 0.0026, test_Loss : 0.0022, Accuracy : 0.961039\n",
            "cnn-98.model  saved\n",
            "Epoch [99], train_Loss : 0.0025, test_Loss : 0.0021, Accuracy : 0.961039\n",
            "cnn-99.model  saved\n",
            "Epoch [100], train_Loss : 0.0024, test_Loss : 0.0021, Accuracy : 0.961039\n"
          ]
        }
      ],
      "source": [
        "#モデルの定義\n",
        "model = CNN()\n",
        "#最適化手法を設定\n",
        "optimizer = optim.Adam(model.parameters(), lr=1e-5)\n",
        "#損失関数の設定\n",
        "criterion = nn.CrossEntropyLoss()\n",
        "\n",
        "#モデルの学習と推論を開始\n",
        "train_loss_list, test_loss_list, accuracy_list, epoch_list = run(100, model, optimizer, criterion, train_loader, test_loader)"
      ]
    },
    {
      "cell_type": "code",
      "execution_count": null,
      "metadata": {
        "id": "nWRU_EUqqFPy"
      },
      "outputs": [],
      "source": [
        "#実行ログを出力\n",
        "f = open(\"cnn_log.txt\", \"w\")\n",
        "for i in range(100):\n",
        "  f.write(\"Epoch [{}] : train_loss {:.4f}, test_loss {:.4f}, Accuracy {:.4f}\\n\".format(epoch_list[i], train_loss_list[i], test_loss_list[i], accuracy_list[i]))\n",
        "f.close()"
      ]
    },
    {
      "cell_type": "code",
      "execution_count": null,
      "metadata": {
        "colab": {
          "base_uri": "https://localhost:8080/",
          "height": 269
        },
        "id": "7O-zUlHootes",
        "outputId": "7d860e8e-d5bc-4841-9121-d3ecad0619a0"
      },
      "outputs": [
        {
          "data": {
            "image/png": "[encoded data removed]",
            "text/plain": [
              "<Figure size 432x288 with 1 Axes>"
            ]
          },
          "metadata": {
            "needs_background": "light"
          },
          "output_type": "display_data"
        }
      ],
      "source": [
        "#必要なライブラリの読み込み\n",
        "import matplotlib.pyplot as plt\n",
        "\n",
        "#train lossの変化をグラフで表示\n",
        "plt.plot(epoch_list, train_loss_list, label='train_loss')\n",
        "plt.xlabel('epoch')\n",
        "plt.ylabel('loss')\n",
        "plt.grid()\n",
        "plt.legend(loc='upper right')\n",
        "plt.savefig(\"train_loss.png\")\n",
        "plt.gca().clear()"
      ]
    },
    {
      "cell_type": "code",
      "execution_count": null,
      "metadata": {
        "colab": {
          "base_uri": "https://localhost:8080/",
          "height": 269
        },
        "id": "Rgp48FNIrFlP",
        "outputId": "ca1ed127-57cf-44d1-e0a7-b5686fab4ca7"
      },
      "outputs": [
        {
          "data": {
            "image/png": "[encoded data removed]",
            "text/plain": [
              "<Figure size 432x288 with 1 Axes>"
            ]
          },
          "metadata": {
            "needs_background": "light"
          },
          "output_type": "display_data"
        }
      ],
      "source": [
        "#test lossの変化をグラフで表示\n",
        "plt.plot(epoch_list, test_loss_list, label='test_loss')\n",
        "plt.xlabel('epoch')\n",
        "plt.ylabel('loss')\n",
        "plt.grid()\n",
        "plt.legend(loc='upper right')\n",
        "plt.savefig(\"test_loss.png\")\n",
        "plt.gca().clear()"
      ]
    },
    {
      "cell_type": "code",
      "execution_count": null,
      "metadata": {
        "colab": {
          "base_uri": "https://localhost:8080/",
          "height": 279
        },
        "id": "JE8EXiUbraHC",
        "outputId": "8e767d26-f49b-44fe-c8e0-5fa769f9c677"
      },
      "outputs": [
        {
          "data": {
            "image/png": "[encoded data removed]",
            "text/plain": [
              "<Figure size 432x288 with 1 Axes>"
            ]
          },
          "metadata": {
            "needs_background": "light"
          },
          "output_type": "display_data"
        }
      ],
      "source": [
        "#Accuracyの変化をグラフで表示\n",
        "plt.plot(epoch_list, accuracy_list, label='accuracy')\n",
        "plt.xlabel('epoch')\n",
        "plt.ylabel('accuracy')\n",
        "plt.grid()\n",
        "plt.legend(loc='lower right')\n",
        "plt.savefig(\"accuracy.png\")"
      ]
    },
    {
      "cell_type": "code",
      "execution_count": null,
      "metadata": {
        "colab": {
          "base_uri": "https://localhost:8080/"
        },
        "id": "_P2qLZzo9_6i",
        "outputId": "4544f343-e7d8-44c6-cef7-b44c79e35d39"
      },
      "outputs": [
        {
          "name": "stdout",
          "output_type": "stream",
          "text": [
            "----------------------------------------------------------------\n",
            "        Layer (type)               Output Shape         Param #\n",
            "================================================================\n",
            "            Conv2d-1            [-1, 6, 60, 60]             456\n",
            "         MaxPool2d-2            [-1, 6, 30, 30]               0\n",
            "            Conv2d-3           [-1, 16, 26, 26]           2,416\n",
            "         MaxPool2d-4           [-1, 16, 13, 13]               0\n",
            "            Conv2d-5           [-1, 32, 10, 10]           8,224\n",
            "         Dropout2d-6           [-1, 32, 10, 10]               0\n",
            "            Linear-7                  [-1, 120]         384,120\n",
            "            Linear-8                   [-1, 84]          10,164\n",
            "            Linear-9                    [-1, 5]             425\n",
            "================================================================\n",
            "Total params: 405,805\n",
            "Trainable params: 405,805\n",
            "Non-trainable params: 0\n",
            "----------------------------------------------------------------\n",
            "Input size (MB): 0.05\n",
            "Forward/backward pass size (MB): 0.36\n",
            "Params size (MB): 1.55\n",
            "Estimated Total Size (MB): 1.95\n",
            "----------------------------------------------------------------\n"
          ]
        }
      ],
      "source": [
        "#モデルの構造を表示\n",
        "model = CNN()\n",
        "model.load_state_dict(torch.load(\"cnn-99.model\"))\n",
        "model.cuda()\n",
        "summary(model, (3, 64, 64))"
      ]
    }
  ],
  "metadata": {
    "accelerator": "GPU",
    "colab": {
      "name": "model.ipynb",
      "provenance": []
    },
    "kernelspec": {
      "display_name": "Python 3",
      "language": "python",
      "name": "python3"
    },
    "language_info": {
      "codemirror_mode": {
        "name": "ipython",
        "version": 3
      },
      "file_extension": ".py",
      "mimetype": "text/x-python",
      "name": "python",
      "nbconvert_exporter": "python",
      "pygments_lexer": "ipython3",
      "version": "3.8.3"
    }
  },
  "nbformat": 4,
  "nbformat_minor": 0
}
