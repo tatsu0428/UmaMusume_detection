{
  "cells": [
    {
      "cell_type": "code",
      "source": [
        "#Googleドライブにアクセスできるようにする\n",
        "from google.colab import drive\n",
        "drive.mount(\"/content/drive\")"
      ],
      "metadata": {
        "id": "fAn8A4fp_N55",
        "outputId": "610167dd-dc9c-4dcb-cd6a-f984f7f859ad",
        "colab": {
          "base_uri": "https://localhost:8080/"
        }
      },
      "execution_count": 1,
      "outputs": [
        {
          "output_type": "stream",
          "name": "stdout",
          "text": [
            "Mounted at /content/drive\n"
          ]
        }
      ]
    },
    {
      "cell_type": "code",
      "source": [
        "% cd /content/drive/MyDrive/UmaMusume_detection"
      ],
      "metadata": {
        "id": "Ni5AoAsT_TNU",
        "outputId": "6b4aeb48-aabf-4d1e-c977-da4b8011d09f",
        "colab": {
          "base_uri": "https://localhost:8080/"
        }
      },
      "execution_count": 2,
      "outputs": [
        {
          "output_type": "stream",
          "name": "stdout",
          "text": [
            "/content/drive/MyDrive/UmaMusume_detection\n"
          ]
        }
      ]
    },
    {
      "cell_type": "code",
      "source": [
        "from torchvision import transforms\n",
        "from torchvision.datasets import ImageFolder\n",
        "from torch.utils.data import DataLoader, Dataset\n",
        "\n",
        "train_path = \"train_data_augment/\"\n",
        "test_path = \"test_data/\"\n",
        "\n",
        "#Transformを作成する。\n",
        "transform = transforms.Compose([transforms.ToTensor(), transforms.Normalize((0.5, 0.5, 0.5), (0.5, 0.5, 0.5))])\n",
        "\n",
        "# ImageFolderのインスタンス生成\n",
        "train_set = ImageFolder(root=train_path, # 画像が保存されているフォルダのパス\n",
        "                       transform=transform) # Tensorへの変換\n",
        "\n",
        "test_set = ImageFolder(root=test_path, # 画像が保存されているフォルダのパス\n",
        "                       transform=transform) # Tensorへの変換\n",
        "\n",
        "print(train_set.class_to_idx)\n",
        "print(test_set.class_to_idx)\n",
        "\n",
        "# DataLoader を作成する。\n",
        "train_loader = DataLoader(train_set, batch_size=64)\n",
        "test_loader = DataLoader(test_set, batch_size=64)"
      ],
      "metadata": {
        "id": "8DL0Sx6hBULn",
        "outputId": "c42dc30d-5949-45e6-8b37-816c5de4d984",
        "colab": {
          "base_uri": "https://localhost:8080/"
        }
      },
      "execution_count": 3,
      "outputs": [
        {
          "output_type": "stream",
          "name": "stdout",
          "text": [
            "{'elcondorpasa': 0, 'grasswonder': 1, 'kinghalo': 2, 'seiunsky': 3, 'specialweek': 4}\n",
            "{'elcondorpasa': 0, 'grasswonder': 1, 'kinghalo': 2, 'seiunsky': 3, 'specialweek': 4}\n"
          ]
        }
      ]
    },
    {
      "cell_type": "code",
      "source": [
        "% cd /content/drive/MyDrive/UmaMusume_detection/model/"
      ],
      "metadata": {
        "id": "cRKexRhCSln2",
        "outputId": "6f8fbf09-1c55-44cd-d9b6-c8f79e4541d8",
        "colab": {
          "base_uri": "https://localhost:8080/"
        }
      },
      "execution_count": null,
      "outputs": [
        {
          "output_type": "stream",
          "name": "stdout",
          "text": [
            "/content/drive/MyDrive/UmaMusume_detection/model\n"
          ]
        }
      ]
    },
    {
      "cell_type": "code",
      "execution_count": 4,
      "metadata": {
        "id": "QA43Uh81fw68"
      },
      "outputs": [],
      "source": [
        "#必要なライブラリの読み込み\n",
        "import torch\n",
        "import torch.nn as nn\n",
        "import torch.optim as optim\n",
        "import torch.nn.functional as F\n",
        "from torchvision import datasets\n",
        "from torchsummary import summary\n",
        "import numpy as np\n",
        "\n",
        "#モデルの定義\n",
        "class CNN(nn.Module):\n",
        "  def __init__(self):\n",
        "    super(CNN, self).__init__()\n",
        "    self.cn1 = nn.Conv2d(3, 6, 5)\n",
        "    self.pool1 = nn.MaxPool2d(2, 2)\n",
        "    self.cn2 = nn.Conv2d(6, 16, 5)\n",
        "    self.pool2 = nn.MaxPool2d(2, 2)\n",
        "    self.cn3 = nn.Conv2d(16, 32, 4)\n",
        "    self.dropout = nn.Dropout2d()\n",
        "    self.fc1 = nn.Linear(32*10*10, 120)\n",
        "    self.fc2 = nn.Linear(120, 84)\n",
        "    self.fc3 = nn.Linear(84, 5)\n",
        "  \n",
        "  def forward(self, x):\n",
        "    x = F.relu(self.cn1(x))\n",
        "    x = self.pool1(x)\n",
        "    x = F.relu(self.cn2(x))\n",
        "    x = self.pool2(x)\n",
        "    x = F.relu(self.cn3(x))\n",
        "    x = self.dropout(x)\n",
        "    x = x.view(-1, 32*10*10)\n",
        "    #print(x.size)\n",
        "    #x = x.view(x.size(0), -1)\n",
        "    x = F.relu(self.fc1(x))\n",
        "    x = F.relu(self.fc2(x))\n",
        "    x = self.fc3(x)\n",
        "        \n",
        "    return x"
      ]
    },
    {
      "cell_type": "code",
      "source": [
        "def train_epoch(model, optimizer, criterion, train_loader, epoch):\n",
        "  train_loss = 0\n",
        "  model.train()\n",
        "  for i, (images, labels) in enumerate(train_loader):\n",
        "    images, labels = images, labels\n",
        "    optimizer.zero_grad()\n",
        "    outputs = model(images)\n",
        "    loss = criterion(outputs, labels)\n",
        "    loss.backward()\n",
        "    optimizer.step()\n",
        "    train_loss += loss.item()\n",
        "  train_loss = train_loss / len(train_loader.dataset)\n",
        "\n",
        "  #モデルの保存\n",
        "  outfile = \"cnn-\" + str(epoch) + \".model\"\n",
        "  torch.save(model.state_dict(), outfile) \n",
        "  print(outfile,\" saved\")\n",
        "  \n",
        "  return train_loss"
      ],
      "metadata": {
        "id": "vLAQ1n6yOMGq"
      },
      "execution_count": 5,
      "outputs": []
    },
    {
      "cell_type": "code",
      "source": [
        "def inference(model, optimizer, criterion, test_loader):\n",
        "  model.eval()\n",
        "  test_loss=0\n",
        "  correct=0\n",
        "\n",
        "  with torch.no_grad():\n",
        "    for i, (images, labels) in enumerate(test_loader):\n",
        "      images, labels = images, labels\n",
        "      outputs = model(images)\n",
        "      loss = criterion(outputs, labels)\n",
        "      test_loss += loss.item()\n",
        "      pred = outputs.argmax(dim=1, keepdim=True)\n",
        "      correct += pred.eq(labels.view_as(pred)).sum().item()\n",
        "\n",
        "    test_loss = test_loss / len(test_loader.dataset)\n",
        "    accuracy = correct / len(test_loader.dataset)\n",
        "    \n",
        "  return test_loss, accuracy"
      ],
      "metadata": {
        "id": "d_YMiOvqO4jg"
      },
      "execution_count": 6,
      "outputs": []
    },
    {
      "cell_type": "code",
      "source": [
        "def run(num_epochs, model, optimizer, criterion, train_loader, test_loader):\n",
        "  train_loss_list = []\n",
        "  test_loss_list = []\n",
        "  accuracy_list = []\n",
        "  epoch_list = []\n",
        "\n",
        "  for epoch in range(num_epochs):\n",
        "    train_loss = train_epoch(model, optimizer, criterion, train_loader, epoch)\n",
        "    test_loss, accuracy = inference(model, optimizer, criterion, test_loader)\n",
        "\n",
        "    print(f'Epoch [{epoch+1}], train_Loss : {train_loss:.4f}, test_Loss : {test_loss:.4f}, Accuracy : {accuracy:4f}')\n",
        "    train_loss_list.append(train_loss)\n",
        "    test_loss_list.append(test_loss)\n",
        "    accuracy_list.append(accuracy)\n",
        "    epoch_list.append(epoch+1)\n",
        "  \n",
        "  return train_loss_list, test_loss_list, accuracy_list, epoch_list"
      ],
      "metadata": {
        "id": "Z9Ns5AkoP7s_"
      },
      "execution_count": 8,
      "outputs": []
    },
    {
      "cell_type": "code",
      "source": [
        "#モデルの定義\n",
        "model = CNN()\n",
        "#summary(model, (3, 64, 64))\n",
        "optimizer = optim.Adam(model.parameters(), lr=1e-5)\n",
        "criterion = nn.CrossEntropyLoss()\n",
        "\n",
        "#モデルの学習を開始\n",
        "train_loss_list, test_loss_list, accuracy_list, epoch_list = run(100, model, optimizer, criterion, train_loader, test_loader)"
      ],
      "metadata": {
        "id": "pbgB3xf2QnCP",
        "outputId": "d6452f60-05a0-4cbc-8a99-1c94ba682205",
        "colab": {
          "base_uri": "https://localhost:8080/"
        }
      },
      "execution_count": 10,
      "outputs": [
        {
          "output_type": "stream",
          "name": "stdout",
          "text": [
            "cnn-0.model  saved\n",
            "Epoch [1], train_Loss : 0.0254, test_Loss : 0.0280, Accuracy : 0.190476\n",
            "cnn-1.model  saved\n",
            "Epoch [2], train_Loss : 0.0253, test_Loss : 0.0280, Accuracy : 0.190476\n",
            "cnn-2.model  saved\n",
            "Epoch [3], train_Loss : 0.0252, test_Loss : 0.0279, Accuracy : 0.190476\n",
            "cnn-3.model  saved\n",
            "Epoch [4], train_Loss : 0.0252, test_Loss : 0.0279, Accuracy : 0.190476\n",
            "cnn-4.model  saved\n",
            "Epoch [5], train_Loss : 0.0251, test_Loss : 0.0278, Accuracy : 0.212121\n",
            "cnn-5.model  saved\n",
            "Epoch [6], train_Loss : 0.0250, test_Loss : 0.0276, Accuracy : 0.354978\n",
            "cnn-6.model  saved\n",
            "Epoch [7], train_Loss : 0.0248, test_Loss : 0.0273, Accuracy : 0.419913\n",
            "cnn-7.model  saved\n",
            "Epoch [8], train_Loss : 0.0244, test_Loss : 0.0269, Accuracy : 0.424242\n",
            "cnn-8.model  saved\n",
            "Epoch [9], train_Loss : 0.0239, test_Loss : 0.0263, Accuracy : 0.424242\n",
            "cnn-9.model  saved\n",
            "Epoch [10], train_Loss : 0.0233, test_Loss : 0.0256, Accuracy : 0.411255\n",
            "cnn-10.model  saved\n",
            "Epoch [11], train_Loss : 0.0225, test_Loss : 0.0249, Accuracy : 0.411255\n",
            "cnn-11.model  saved\n",
            "Epoch [12], train_Loss : 0.0217, test_Loss : 0.0242, Accuracy : 0.411255\n",
            "cnn-12.model  saved\n",
            "Epoch [13], train_Loss : 0.0208, test_Loss : 0.0234, Accuracy : 0.424242\n",
            "cnn-13.model  saved\n",
            "Epoch [14], train_Loss : 0.0199, test_Loss : 0.0226, Accuracy : 0.445887\n",
            "cnn-14.model  saved\n",
            "Epoch [15], train_Loss : 0.0189, test_Loss : 0.0216, Accuracy : 0.493506\n",
            "cnn-15.model  saved\n",
            "Epoch [16], train_Loss : 0.0180, test_Loss : 0.0204, Accuracy : 0.515152\n",
            "cnn-16.model  saved\n",
            "Epoch [17], train_Loss : 0.0170, test_Loss : 0.0193, Accuracy : 0.554113\n",
            "cnn-17.model  saved\n",
            "Epoch [18], train_Loss : 0.0159, test_Loss : 0.0181, Accuracy : 0.601732\n",
            "cnn-18.model  saved\n",
            "Epoch [19], train_Loss : 0.0151, test_Loss : 0.0168, Accuracy : 0.623377\n",
            "cnn-19.model  saved\n",
            "Epoch [20], train_Loss : 0.0142, test_Loss : 0.0157, Accuracy : 0.675325\n",
            "cnn-20.model  saved\n",
            "Epoch [21], train_Loss : 0.0132, test_Loss : 0.0145, Accuracy : 0.701299\n",
            "cnn-21.model  saved\n",
            "Epoch [22], train_Loss : 0.0123, test_Loss : 0.0135, Accuracy : 0.714286\n",
            "cnn-22.model  saved\n",
            "Epoch [23], train_Loss : 0.0116, test_Loss : 0.0126, Accuracy : 0.731602\n",
            "cnn-23.model  saved\n",
            "Epoch [24], train_Loss : 0.0109, test_Loss : 0.0118, Accuracy : 0.753247\n",
            "cnn-24.model  saved\n",
            "Epoch [25], train_Loss : 0.0103, test_Loss : 0.0110, Accuracy : 0.787879\n",
            "cnn-25.model  saved\n",
            "Epoch [26], train_Loss : 0.0097, test_Loss : 0.0104, Accuracy : 0.800866\n",
            "cnn-26.model  saved\n",
            "Epoch [27], train_Loss : 0.0092, test_Loss : 0.0098, Accuracy : 0.796537\n",
            "cnn-27.model  saved\n",
            "Epoch [28], train_Loss : 0.0088, test_Loss : 0.0092, Accuracy : 0.805195\n",
            "cnn-28.model  saved\n",
            "Epoch [29], train_Loss : 0.0083, test_Loss : 0.0088, Accuracy : 0.805195\n",
            "cnn-29.model  saved\n",
            "Epoch [30], train_Loss : 0.0079, test_Loss : 0.0083, Accuracy : 0.813853\n",
            "cnn-30.model  saved\n",
            "Epoch [31], train_Loss : 0.0077, test_Loss : 0.0081, Accuracy : 0.813853\n",
            "cnn-31.model  saved\n",
            "Epoch [32], train_Loss : 0.0074, test_Loss : 0.0077, Accuracy : 0.813853\n",
            "cnn-32.model  saved\n",
            "Epoch [33], train_Loss : 0.0071, test_Loss : 0.0074, Accuracy : 0.831169\n",
            "cnn-33.model  saved\n",
            "Epoch [34], train_Loss : 0.0069, test_Loss : 0.0071, Accuracy : 0.835498\n",
            "cnn-34.model  saved\n",
            "Epoch [35], train_Loss : 0.0066, test_Loss : 0.0068, Accuracy : 0.835498\n",
            "cnn-35.model  saved\n",
            "Epoch [36], train_Loss : 0.0064, test_Loss : 0.0066, Accuracy : 0.835498\n",
            "cnn-36.model  saved\n",
            "Epoch [37], train_Loss : 0.0063, test_Loss : 0.0064, Accuracy : 0.835498\n",
            "cnn-37.model  saved\n",
            "Epoch [38], train_Loss : 0.0061, test_Loss : 0.0062, Accuracy : 0.835498\n",
            "cnn-38.model  saved\n",
            "Epoch [39], train_Loss : 0.0060, test_Loss : 0.0060, Accuracy : 0.848485\n",
            "cnn-39.model  saved\n",
            "Epoch [40], train_Loss : 0.0058, test_Loss : 0.0058, Accuracy : 0.861472\n",
            "cnn-40.model  saved\n",
            "Epoch [41], train_Loss : 0.0057, test_Loss : 0.0057, Accuracy : 0.861472\n",
            "cnn-41.model  saved\n",
            "Epoch [42], train_Loss : 0.0055, test_Loss : 0.0055, Accuracy : 0.865801\n",
            "cnn-42.model  saved\n",
            "Epoch [43], train_Loss : 0.0054, test_Loss : 0.0055, Accuracy : 0.865801\n",
            "cnn-43.model  saved\n",
            "Epoch [44], train_Loss : 0.0053, test_Loss : 0.0053, Accuracy : 0.870130\n",
            "cnn-44.model  saved\n",
            "Epoch [45], train_Loss : 0.0052, test_Loss : 0.0052, Accuracy : 0.870130\n",
            "cnn-45.model  saved\n",
            "Epoch [46], train_Loss : 0.0052, test_Loss : 0.0051, Accuracy : 0.883117\n",
            "cnn-46.model  saved\n",
            "Epoch [47], train_Loss : 0.0050, test_Loss : 0.0050, Accuracy : 0.883117\n",
            "cnn-47.model  saved\n",
            "Epoch [48], train_Loss : 0.0049, test_Loss : 0.0049, Accuracy : 0.891775\n",
            "cnn-48.model  saved\n",
            "Epoch [49], train_Loss : 0.0048, test_Loss : 0.0047, Accuracy : 0.900433\n",
            "cnn-49.model  saved\n",
            "Epoch [50], train_Loss : 0.0047, test_Loss : 0.0046, Accuracy : 0.904762\n",
            "cnn-50.model  saved\n",
            "Epoch [51], train_Loss : 0.0047, test_Loss : 0.0046, Accuracy : 0.904762\n",
            "cnn-51.model  saved\n",
            "Epoch [52], train_Loss : 0.0046, test_Loss : 0.0045, Accuracy : 0.904762\n",
            "cnn-52.model  saved\n",
            "Epoch [53], train_Loss : 0.0045, test_Loss : 0.0043, Accuracy : 0.904762\n",
            "cnn-53.model  saved\n",
            "Epoch [54], train_Loss : 0.0045, test_Loss : 0.0043, Accuracy : 0.904762\n",
            "cnn-54.model  saved\n",
            "Epoch [55], train_Loss : 0.0043, test_Loss : 0.0042, Accuracy : 0.904762\n",
            "cnn-55.model  saved\n",
            "Epoch [56], train_Loss : 0.0043, test_Loss : 0.0041, Accuracy : 0.904762\n",
            "cnn-56.model  saved\n",
            "Epoch [57], train_Loss : 0.0042, test_Loss : 0.0041, Accuracy : 0.904762\n",
            "cnn-57.model  saved\n",
            "Epoch [58], train_Loss : 0.0042, test_Loss : 0.0040, Accuracy : 0.909091\n",
            "cnn-58.model  saved\n",
            "Epoch [59], train_Loss : 0.0041, test_Loss : 0.0039, Accuracy : 0.913420\n",
            "cnn-59.model  saved\n",
            "Epoch [60], train_Loss : 0.0039, test_Loss : 0.0038, Accuracy : 0.909091\n",
            "cnn-60.model  saved\n",
            "Epoch [61], train_Loss : 0.0040, test_Loss : 0.0037, Accuracy : 0.913420\n",
            "cnn-61.model  saved\n",
            "Epoch [62], train_Loss : 0.0039, test_Loss : 0.0037, Accuracy : 0.913420\n",
            "cnn-62.model  saved\n",
            "Epoch [63], train_Loss : 0.0039, test_Loss : 0.0036, Accuracy : 0.913420\n",
            "cnn-63.model  saved\n",
            "Epoch [64], train_Loss : 0.0038, test_Loss : 0.0036, Accuracy : 0.913420\n",
            "cnn-64.model  saved\n",
            "Epoch [65], train_Loss : 0.0038, test_Loss : 0.0035, Accuracy : 0.917749\n",
            "cnn-65.model  saved\n",
            "Epoch [66], train_Loss : 0.0037, test_Loss : 0.0035, Accuracy : 0.917749\n",
            "cnn-66.model  saved\n",
            "Epoch [67], train_Loss : 0.0036, test_Loss : 0.0034, Accuracy : 0.917749\n",
            "cnn-67.model  saved\n",
            "Epoch [68], train_Loss : 0.0036, test_Loss : 0.0033, Accuracy : 0.917749\n",
            "cnn-68.model  saved\n",
            "Epoch [69], train_Loss : 0.0036, test_Loss : 0.0033, Accuracy : 0.917749\n",
            "cnn-69.model  saved\n",
            "Epoch [70], train_Loss : 0.0035, test_Loss : 0.0032, Accuracy : 0.917749\n",
            "cnn-70.model  saved\n",
            "Epoch [71], train_Loss : 0.0035, test_Loss : 0.0032, Accuracy : 0.922078\n",
            "cnn-71.model  saved\n",
            "Epoch [72], train_Loss : 0.0034, test_Loss : 0.0031, Accuracy : 0.926407\n",
            "cnn-72.model  saved\n",
            "Epoch [73], train_Loss : 0.0034, test_Loss : 0.0031, Accuracy : 0.930736\n",
            "cnn-73.model  saved\n",
            "Epoch [74], train_Loss : 0.0033, test_Loss : 0.0030, Accuracy : 0.926407\n",
            "cnn-74.model  saved\n",
            "Epoch [75], train_Loss : 0.0032, test_Loss : 0.0030, Accuracy : 0.926407\n",
            "cnn-75.model  saved\n",
            "Epoch [76], train_Loss : 0.0032, test_Loss : 0.0030, Accuracy : 0.926407\n",
            "cnn-76.model  saved\n",
            "Epoch [77], train_Loss : 0.0032, test_Loss : 0.0029, Accuracy : 0.930736\n",
            "cnn-77.model  saved\n",
            "Epoch [78], train_Loss : 0.0031, test_Loss : 0.0029, Accuracy : 0.935065\n",
            "cnn-78.model  saved\n",
            "Epoch [79], train_Loss : 0.0031, test_Loss : 0.0028, Accuracy : 0.935065\n",
            "cnn-79.model  saved\n",
            "Epoch [80], train_Loss : 0.0031, test_Loss : 0.0028, Accuracy : 0.935065\n",
            "cnn-80.model  saved\n",
            "Epoch [81], train_Loss : 0.0031, test_Loss : 0.0027, Accuracy : 0.935065\n",
            "cnn-81.model  saved\n",
            "Epoch [82], train_Loss : 0.0030, test_Loss : 0.0027, Accuracy : 0.943723\n",
            "cnn-82.model  saved\n",
            "Epoch [83], train_Loss : 0.0030, test_Loss : 0.0026, Accuracy : 0.943723\n",
            "cnn-83.model  saved\n",
            "Epoch [84], train_Loss : 0.0030, test_Loss : 0.0026, Accuracy : 0.939394\n",
            "cnn-84.model  saved\n",
            "Epoch [85], train_Loss : 0.0030, test_Loss : 0.0026, Accuracy : 0.943723\n",
            "cnn-85.model  saved\n",
            "Epoch [86], train_Loss : 0.0028, test_Loss : 0.0025, Accuracy : 0.943723\n",
            "cnn-86.model  saved\n",
            "Epoch [87], train_Loss : 0.0028, test_Loss : 0.0025, Accuracy : 0.943723\n",
            "cnn-87.model  saved\n",
            "Epoch [88], train_Loss : 0.0027, test_Loss : 0.0024, Accuracy : 0.943723\n",
            "cnn-88.model  saved\n",
            "Epoch [89], train_Loss : 0.0027, test_Loss : 0.0025, Accuracy : 0.948052\n",
            "cnn-89.model  saved\n",
            "Epoch [90], train_Loss : 0.0026, test_Loss : 0.0024, Accuracy : 0.952381\n",
            "cnn-90.model  saved\n",
            "Epoch [91], train_Loss : 0.0027, test_Loss : 0.0024, Accuracy : 0.952381\n",
            "cnn-91.model  saved\n",
            "Epoch [92], train_Loss : 0.0027, test_Loss : 0.0023, Accuracy : 0.956710\n",
            "cnn-92.model  saved\n",
            "Epoch [93], train_Loss : 0.0026, test_Loss : 0.0024, Accuracy : 0.948052\n",
            "cnn-93.model  saved\n",
            "Epoch [94], train_Loss : 0.0026, test_Loss : 0.0023, Accuracy : 0.956710\n",
            "cnn-94.model  saved\n",
            "Epoch [95], train_Loss : 0.0025, test_Loss : 0.0023, Accuracy : 0.956710\n",
            "cnn-95.model  saved\n",
            "Epoch [96], train_Loss : 0.0025, test_Loss : 0.0022, Accuracy : 0.956710\n",
            "cnn-96.model  saved\n",
            "Epoch [97], train_Loss : 0.0026, test_Loss : 0.0022, Accuracy : 0.961039\n",
            "cnn-97.model  saved\n",
            "Epoch [98], train_Loss : 0.0026, test_Loss : 0.0022, Accuracy : 0.961039\n",
            "cnn-98.model  saved\n",
            "Epoch [99], train_Loss : 0.0025, test_Loss : 0.0021, Accuracy : 0.961039\n",
            "cnn-99.model  saved\n",
            "Epoch [100], train_Loss : 0.0024, test_Loss : 0.0021, Accuracy : 0.961039\n"
          ]
        }
      ]
    },
    {
      "cell_type": "code",
      "source": [
        "#ログを出力\n",
        "f = open(\"cnn_log.txt\", \"w\")\n",
        "for i in range(100):\n",
        "  f.write(\"Epoch [{}] : train_loss {:.4f}, test_loss {:.4f}, Accuracy {:.4f}\\n\".format(epoch_list[i], train_loss_list[i], test_loss_list[i], accuracy_list[i]))\n",
        "f.close()"
      ],
      "metadata": {
        "id": "nWRU_EUqqFPy"
      },
      "execution_count": 11,
      "outputs": []
    },
    {
      "cell_type": "code",
      "source": [
        "import matplotlib.pyplot as plt\n",
        "\n",
        "plt.plot(epoch_list, train_loss_list, label='train_loss')\n",
        "plt.xlabel('epoch')\n",
        "plt.ylabel('loss')\n",
        "plt.grid()\n",
        "plt.legend(loc='upper right')\n",
        "plt.savefig(\"train_loss.png\")\n",
        "plt.gca().clear()"
      ],
      "metadata": {
        "id": "7O-zUlHootes",
        "outputId": "7d860e8e-d5bc-4841-9121-d3ecad0619a0",
        "colab": {
          "base_uri": "https://localhost:8080/",
          "height": 269
        }
      },
      "execution_count": 12,
      "outputs": [
        {
          "output_type": "display_data",
          "data": {
            "text/plain": [
              "<Figure size 432x288 with 1 Axes>"
            ],
            "image/png": "[encoded data removed]"
          },
          "metadata": {
            "needs_background": "light"
          }
        }
      ]
    },
    {
      "cell_type": "code",
      "source": [
        "plt.plot(epoch_list, test_loss_list, label='test_loss')\n",
        "plt.xlabel('epoch')\n",
        "plt.ylabel('loss')\n",
        "plt.grid()\n",
        "plt.legend(loc='upper right')\n",
        "plt.savefig(\"test_loss.png\")\n",
        "plt.gca().clear()"
      ],
      "metadata": {
        "id": "Rgp48FNIrFlP",
        "outputId": "ca1ed127-57cf-44d1-e0a7-b5686fab4ca7",
        "colab": {
          "base_uri": "https://localhost:8080/",
          "height": 269
        }
      },
      "execution_count": 13,
      "outputs": [
        {
          "output_type": "display_data",
          "data": {
            "text/plain": [
              "<Figure size 432x288 with 1 Axes>"
            ],
            "image/png": "[encoded data removed]"
          },
          "metadata": {
            "needs_background": "light"
          }
        }
      ]
    },
    {
      "cell_type": "code",
      "source": [
        "plt.plot(epoch_list, accuracy_list, label='accuracy')\n",
        "plt.xlabel('epoch')\n",
        "plt.ylabel('accuracy')\n",
        "plt.grid()\n",
        "plt.legend(loc='lower right')\n",
        "plt.savefig(\"accuracy.png\")"
      ],
      "metadata": {
        "id": "JE8EXiUbraHC",
        "outputId": "8e767d26-f49b-44fe-c8e0-5fa769f9c677",
        "colab": {
          "base_uri": "https://localhost:8080/",
          "height": 279
        }
      },
      "execution_count": 14,
      "outputs": [
        {
          "output_type": "display_data",
          "data": {
            "text/plain": [
              "<Figure size 432x288 with 1 Axes>"
            ],
            "image/png": "[encoded data removed]"
          },
          "metadata": {
            "needs_background": "light"
          }
        }
      ]
    },
    {
      "cell_type": "code",
      "source": [
        "import matplotlib.pyplot as plt\n",
        "\n",
        "num_epochs=10\n",
        "fig, ax = plt.subplots(figsize=(8, 6), dpi=100)\n",
        "ax.plot(range(num_epochs), train_loss_list, c='b', label='train loss')\n",
        "ax.plot(range(num_epochs), test_loss_list, c='r', label='test loss')\n",
        "ax.set_xlabel('epoch', fontsize='20')\n",
        "ax.set_ylabel('loss', fontsize='20')\n",
        "ax.set_title('training and test loss', fontsize='20')\n",
        "ax.grid()\n",
        "ax.legend(fontsize='25')\n",
        "plt.show()"
      ],
      "metadata": {
        "id": "nb7bn-RyfgfF",
        "outputId": "80ff9ad6-e889-444f-d679-6ba566fd3f34",
        "colab": {
          "base_uri": "https://localhost:8080/",
          "height": 577
        }
      },
      "execution_count": null,
      "outputs": [
        {
          "output_type": "display_data",
          "data": {
            "text/plain": [
              "<Figure size 800x600 with 1 Axes>"
            ],
            "image/png": "[encoded data removed]"
          },
          "metadata": {
            "needs_background": "light"
          }
        }
      ]
    },
    {
      "cell_type": "code",
      "source": [
        "model.load_state_dict(torch.load(\"cnn-9.model\"))\n",
        "\n",
        "model.eval()\n",
        "correct=0\n",
        "with torch.no_grad():\n",
        "  for i, (images, labels) in enumerate(test_loader):\n",
        "    images, labels = images, labels\n",
        "    outputs = model(images)\n",
        "    pred = outputs.argmax(dim=1, keepdim=True)\n",
        "    correct += pred.eq(labels.view_as(pred)).sum().item()\n",
        "  accuracy = correct / len(test_loader.dataset)\n",
        "  print(\"Accuracy: \" + str(accuracy))"
      ],
      "metadata": {
        "id": "qi4Ukz-bgth7",
        "outputId": "5012b0e7-5ab8-446a-c0e6-38090327fdfb",
        "colab": {
          "base_uri": "https://localhost:8080/"
        }
      },
      "execution_count": null,
      "outputs": [
        {
          "output_type": "stream",
          "name": "stdout",
          "text": [
            "Accuracy: 0.19480519480519481\n"
          ]
        }
      ]
    }
  ],
  "metadata": {
    "kernelspec": {
      "display_name": "Python 3",
      "language": "python",
      "name": "python3"
    },
    "language_info": {
      "codemirror_mode": {
        "name": "ipython",
        "version": 3
      },
      "file_extension": ".py",
      "mimetype": "text/x-python",
      "name": "python",
      "nbconvert_exporter": "python",
      "pygments_lexer": "ipython3",
      "version": "3.8.3"
    },
    "colab": {
      "name": "model.ipynb",
      "provenance": []
    },
    "accelerator": "GPU"
  },
  "nbformat": 4,
  "nbformat_minor": 0
}