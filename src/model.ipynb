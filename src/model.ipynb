{
  "cells": [
    {
      "cell_type": "code",
      "execution_count": null,
      "metadata": {
        "id": "QA43Uh81fw68"
      },
      "outputs": [],
      "source": [
        "#必要なライブラリの読み込み\n",
        "import torch.nn as nn\n",
        "import torch.nn.functional as F\n",
        "\n",
        "#モデルの定義\n",
        "class CNN(nn.Module):\n",
        "  def __init__(self):\n",
        "    super(CNN, self).__init__()\n",
        "    self.cn1 = nn.Conv2d(3, 6, 5)\n",
        "    self.pool1 = nn.MaxPool2d(2, 2)\n",
        "    self.cn2 = nn.Conv2d(6, 16, 5)\n",
        "    self.pool2 = nn.MaxPool2d(2, 2)\n",
        "    self.cn3 = nn.Conv2d(16, 32, 5)\n",
        "    self.dropout = nn.Dropout()\n",
        "    self.fc1 = nn.Linear(32*10*10, 120)\n",
        "    self.fc2 = nn.Linear(120, 84)\n",
        "    self.fc3 = nn.Linear(84, 5)\n",
        "  \n",
        "  def forward(self, x):\n",
        "    x = F.relu(self.cn1(x))\n",
        "    x = self.pool1(x)\n",
        "    x = F.relu(self.cn2(x))\n",
        "    x = self.pool2(x)\n",
        "    x = F.relu(self.cn3(x))\n",
        "    x = self.dropout(x)\n",
        "    x = x.view(-1, 32*10*10)\n",
        "    x = F.relu(self.fc1(x))\n",
        "    x = F.relu(self.fc2(x))\n",
        "    x = self.fc3(x)\n",
        "        \n",
        "    return x"
      ]
    }
  ],
  "metadata": {
    "kernelspec": {
      "display_name": "Python 3",
      "language": "python",
      "name": "python3"
    },
    "language_info": {
      "codemirror_mode": {
        "name": "ipython",
        "version": 3
      },
      "file_extension": ".py",
      "mimetype": "text/x-python",
      "name": "python",
      "nbconvert_exporter": "python",
      "pygments_lexer": "ipython3",
      "version": "3.8.3"
    },
    "colab": {
      "name": "model.ipynb",
      "provenance": []
    }
  },
  "nbformat": 4,
  "nbformat_minor": 0
}