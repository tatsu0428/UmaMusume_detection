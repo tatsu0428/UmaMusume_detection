{
  "cells": [
    {
      "cell_type": "code",
      "execution_count": null,
      "metadata": {
        "id": "lrde3_smb9l8"
      },
      "outputs": [],
      "source": [
        "#Googleドライブにアクセスできるようにする\n",
        "from google.colab import drive\n",
        "drive.mount(\"/content/drive\")"
      ]
    },
    {
      "cell_type": "code",
      "source": [
        "% cd /content/drive/MyDrive/UmaMusume_detection"
      ],
      "metadata": {
        "id": "Ua5WgZ84cLBv"
      },
      "execution_count": null,
      "outputs": []
    },
    {
      "cell_type": "code",
      "source": [
        "#画像を教師データとテストデータに分割\n",
        "import shutil\n",
        "import random\n",
        "import glob\n",
        "import os\n",
        "\n",
        "#ウマ娘の名前のリスト\n",
        "names = [\"specialweek\", \"seiunsky\", \"kinghalo\", \"elcondorpasa\", \"grasswonder\"]\n",
        "\n",
        "for name in names:\n",
        "  #顔画像のデータを取得\n",
        "  faces_list = glob.glob(\"faces/\" + name + \"/*\")\n",
        "  random.shuffle(faces_list)\n",
        "\n",
        "  #一度画像を全て訓練用のデータフォルダにコピー\n",
        "  for i in range(len(faces_list)):\n",
        "    shutil.copy(str(faces_list[i]), \"train_data/\" + name)\n",
        "  \n",
        "  faces_list_train = glob.glob(\"train_data\" + name + \"/*\")\n",
        "\n",
        "  #訓練用データフォルダから2割のデータをテスト用のデータフォルダに移動\n",
        "  for i in range(int(len(faces_list_train)/5)):\n",
        "    shutil.move(str(faces_list_train[i]), \"test_data/\" + name)"
      ],
      "metadata": {
        "id": "-1dxmeMzcLsN"
      },
      "execution_count": null,
      "outputs": []
    }
  ],
  "metadata": {
    "kernelspec": {
      "display_name": "Python 3",
      "language": "python",
      "name": "python3"
    },
    "language_info": {
      "codemirror_mode": {
        "name": "ipython",
        "version": 3
      },
      "file_extension": ".py",
      "mimetype": "text/x-python",
      "name": "python",
      "nbconvert_exporter": "python",
      "pygments_lexer": "ipython3",
      "version": "3.8.3"
    },
    "colab": {
      "name": "train_test_split.ipynb",
      "provenance": []
    }
  },
  "nbformat": 4,
  "nbformat_minor": 0
}