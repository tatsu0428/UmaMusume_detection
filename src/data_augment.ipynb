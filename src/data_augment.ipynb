{
  "cells": [
    {
      "cell_type": "code",
      "execution_count": 2,
      "metadata": {
        "id": "sZIEfzY10nf9",
        "outputId": "25591d64-f511-497c-95ce-ce2007810068",
        "colab": {
          "base_uri": "https://localhost:8080/"
        }
      },
      "outputs": [
        {
          "output_type": "stream",
          "name": "stdout",
          "text": [
            "Mounted at /content/drive\n"
          ]
        }
      ],
      "source": [
        "#Googleドライブにアクセスできるようにする\n",
        "from google.colab import drive\n",
        "drive.mount(\"/content/drive\")"
      ]
    },
    {
      "cell_type": "code",
      "source": [
        "% cd /content/drive/MyDrive/UmaMusume_detection"
      ],
      "metadata": {
        "id": "KSCxe-Uo0rBY",
        "outputId": "5e0b9381-96c8-4c4c-9ed2-8cc14f9f4d2e",
        "colab": {
          "base_uri": "https://localhost:8080/"
        }
      },
      "execution_count": 3,
      "outputs": [
        {
          "output_type": "stream",
          "name": "stdout",
          "text": [
            "/content/drive/MyDrive/UmaMusume_detection\n"
          ]
        }
      ]
    },
    {
      "cell_type": "code",
      "source": [
        "#それぞれのウマ娘の画像枚数を確認\n",
        "import os\n",
        "import glob\n",
        "\n",
        "#元データの枚数を確認\n",
        "print(\"元データ：\")\n",
        "for name in os.listdir(\"faces\"):\n",
        "  print(name, \":\", len(glob.glob(\"faces/\" + name + \"/*\")), \"枚\")\n",
        "print()\n",
        "\n",
        "#訓練データの枚数を確認\n",
        "print(\"訓練データ：\")\n",
        "for name in os.listdir(\"train_data\"):\n",
        "  print(name, \":\", len(glob.glob(\"train_data/\" + name + \"/*\")), \"枚\")\n",
        "print()\n",
        "\n",
        "#テストデータの枚数を確認\n",
        "print(\"テストデータ：\")\n",
        "for name in os.listdir(\"test_data\"):\n",
        "  print(name, \":\", len(glob.glob(\"test_data/\" + name + \"/*\")), \"枚\")\n",
        "print()"
      ],
      "metadata": {
        "id": "CWpi3NWKVs-v",
        "outputId": "167f18c0-3d2b-4b69-8e18-f68cb964329f",
        "colab": {
          "base_uri": "https://localhost:8080/"
        }
      },
      "execution_count": 8,
      "outputs": [
        {
          "output_type": "stream",
          "name": "stdout",
          "text": [
            "元データ：\n",
            "seiunsky : 228 枚\n",
            "kinghalo : 226 枚\n",
            "elcondorpasa : 261 枚\n",
            "grasswonder : 223 枚\n",
            "specialweek : 225 枚\n",
            "\n",
            "訓練データ：\n",
            "grasswonder : 179 枚\n",
            "specialweek : 180 枚\n",
            "elcondorpasa : 209 枚\n",
            "kinghalo : 181 枚\n",
            "seiunsky : 183 枚\n",
            "\n",
            "テストデータ：\n",
            "specialweek : 45 枚\n",
            "kinghalo : 45 枚\n",
            "seiunsky : 45 枚\n",
            "grasswonder : 44 枚\n",
            "elcondorpasa : 52 枚\n",
            "\n"
          ]
        }
      ]
    },
    {
      "cell_type": "code",
      "source": [
        "#訓練データの水増しを行う\n",
        "import shutil\n",
        "from scipy import ndimage\n",
        "import cv2\n",
        "\n",
        "if not os.path.exists(\"train_data_augment\"):\n",
        "  shutil.copytree(\"train_data\", \"train_data_augment\")\n",
        "\n",
        "#ウマ娘の名前のリスト\n",
        "names = [\"specialweek\", \"seiunsky\", \"kinghalo\", \"elcondorpasa\", \"grasswonder\"]\n",
        "\n",
        "for name in names:\n",
        "  #訓練データを取得\n",
        "  face_list_train = glob.glob(\"train_data_augment/\" + name + \"/*\")\n",
        "\n",
        "  for i in range(len(face_list_train)):\n",
        "    path = str(face_list_train[i])\n",
        "    img = cv2.imread(path)\n",
        "\n",
        "    #回転\n",
        "    for ang in [-10, 0, 10]:\n",
        "      img_rot = ndimage.rotate(img, ang)\n",
        "      img_rot = cv2.resize(img_rot, (64,64))\n",
        "      cv2.imwrite(path[:-4]+\"_\"+str(ang)+\".jpg\", img_rot)\n",
        "\n",
        "      # 閾値\n",
        "      img_thr = cv2.threshold(img_rot, 100, 255, cv2.THRESH_TOZERO)[1]\n",
        "      cv2.imwrite(path[:-4]+\"_\"+str(ang)+\"_thr.jpg\", img_thr)\n",
        "\n",
        "      # ぼかし\n",
        "      img_filter = cv2.GaussianBlur(img_rot, (5, 5), 0)\n",
        "      cv2.imwrite(path[:-4]+\"_\"+str(ang)+\"_filter.jpg\", img_filter)"
      ],
      "metadata": {
        "id": "XzPDOeOA0u5N"
      },
      "execution_count": 9,
      "outputs": []
    },
    {
      "cell_type": "code",
      "source": [
        "#それぞれのウマ娘の画像枚数を確認\n",
        "\n",
        "#元データの枚数を確認\n",
        "print(\"元データ：\")\n",
        "for name in os.listdir(\"faces\"):\n",
        "  print(name, \":\", len(glob.glob(\"faces/\" + name + \"/*\")), \"枚\")\n",
        "print()\n",
        "\n",
        "#訓練データの枚数を確認\n",
        "print(\"訓練データ：\")\n",
        "for name in os.listdir(\"train_data\"):\n",
        "  print(name, \":\", len(glob.glob(\"train_data/\" + name + \"/*\")), \"枚\")\n",
        "print()\n",
        "\n",
        "#テストデータの枚数を確認\n",
        "print(\"テストデータ：\")\n",
        "for name in os.listdir(\"test_data\"):\n",
        "  print(name, \":\", len(glob.glob(\"test_data/\" + name + \"/*\")), \"枚\")\n",
        "print()\n",
        "\n",
        "#データ拡張後の訓練データの枚数を確認\n",
        "print(\"訓練データ（データ拡張後）：\")\n",
        "for name in os.listdir(\"train_data_augment\"):\n",
        "  print(name, \":\", len(glob.glob(\"train_data_augment/\" + name + \"/*\")), \"枚\")"
      ],
      "metadata": {
        "id": "xCJHEfLQaeSc",
        "outputId": "b23456e1-4df7-41c7-eba1-d0d35f406042",
        "colab": {
          "base_uri": "https://localhost:8080/"
        }
      },
      "execution_count": 10,
      "outputs": [
        {
          "output_type": "stream",
          "name": "stdout",
          "text": [
            "元データ：\n",
            "seiunsky : 228 枚\n",
            "kinghalo : 226 枚\n",
            "elcondorpasa : 261 枚\n",
            "grasswonder : 223 枚\n",
            "specialweek : 225 枚\n",
            "\n",
            "訓練データ：\n",
            "grasswonder : 179 枚\n",
            "specialweek : 180 枚\n",
            "elcondorpasa : 209 枚\n",
            "kinghalo : 181 枚\n",
            "seiunsky : 183 枚\n",
            "\n",
            "テストデータ：\n",
            "specialweek : 45 枚\n",
            "kinghalo : 45 枚\n",
            "seiunsky : 45 枚\n",
            "grasswonder : 44 枚\n",
            "elcondorpasa : 52 枚\n",
            "\n",
            "訓練データ（データ拡張後）：\n",
            "grasswonder : 1790 枚\n",
            "specialweek : 1800 枚\n",
            "elcondorpasa : 2090 枚\n",
            "kinghalo : 1810 枚\n",
            "seiunsky : 1830 枚\n"
          ]
        }
      ]
    }
  ],
  "metadata": {
    "kernelspec": {
      "display_name": "Python 3",
      "language": "python",
      "name": "python3"
    },
    "language_info": {
      "codemirror_mode": {
        "name": "ipython",
        "version": 3
      },
      "file_extension": ".py",
      "mimetype": "text/x-python",
      "name": "python",
      "nbconvert_exporter": "python",
      "pygments_lexer": "ipython3",
      "version": "3.8.3"
    },
    "colab": {
      "name": "data_augment.ipynb",
      "provenance": []
    }
  },
  "nbformat": 4,
  "nbformat_minor": 0
}