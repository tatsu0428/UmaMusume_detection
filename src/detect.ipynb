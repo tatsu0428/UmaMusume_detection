{
  "cells": [
    {
      "cell_type": "code",
      "source": [
        "#Googleドライブにアクセスできるようにする\n",
        "from google.colab import drive\n",
        "drive.mount(\"/content/drive\")"
      ],
      "metadata": {
        "colab": {
          "base_uri": "https://localhost:8080/"
        },
        "id": "H20cCNaVWnpu",
        "outputId": "0b512ccc-13b1-47c3-eedd-a83189aa33b5"
      },
      "execution_count": null,
      "outputs": [
        {
          "output_type": "stream",
          "name": "stdout",
          "text": [
            "Mounted at /content/drive\n"
          ]
        }
      ]
    },
    {
      "cell_type": "code",
      "source": [
        "% cd /content/drive/MyDrive/UmaMusume_detection"
      ],
      "metadata": {
        "colab": {
          "base_uri": "https://localhost:8080/"
        },
        "id": "77tnW_HrW8uS",
        "outputId": "837a255f-09f2-445f-8360-d6732dd10d34"
      },
      "execution_count": null,
      "outputs": [
        {
          "output_type": "stream",
          "name": "stdout",
          "text": [
            "/content/drive/MyDrive/UmaMusume_detection\n"
          ]
        }
      ]
    },
    {
      "cell_type": "code",
      "source": [
        "! wget https://raw.githubusercontent.com/nagadomi/lbpcascade_animeface/master/lbpcascade_animeface.xml"
      ],
      "metadata": {
        "colab": {
          "base_uri": "https://localhost:8080/"
        },
        "id": "i62Cc9AzXMQP",
        "outputId": "b300aa16-6496-435f-a111-07c62fe5f02a"
      },
      "execution_count": null,
      "outputs": [
        {
          "output_type": "stream",
          "name": "stdout",
          "text": [
            "--2022-03-23 04:41:03--  https://raw.githubusercontent.com/nagadomi/lbpcascade_animeface/master/lbpcascade_animeface.xml\n",
            "Resolving raw.githubusercontent.com (raw.githubusercontent.com)... 185.199.108.133, 185.199.109.133, 185.199.110.133, ...\n",
            "Connecting to raw.githubusercontent.com (raw.githubusercontent.com)|185.199.108.133|:443... connected.\n",
            "HTTP request sent, awaiting response... 200 OK\n",
            "Length: 246945 (241K) [text/plain]\n",
            "Saving to: ‘lbpcascade_animeface.xml.1’\n",
            "\n",
            "\r          lbpcascad   0%[                    ]       0  --.-KB/s               \rlbpcascade_animefac 100%[===================>] 241.16K  --.-KB/s    in 0.03s   \n",
            "\n",
            "2022-03-23 04:41:03 (8.68 MB/s) - ‘lbpcascade_animeface.xml.1’ saved [246945/246945]\n",
            "\n"
          ]
        }
      ]
    },
    {
      "cell_type": "code",
      "source": [
        "#必要なライブラリをインポート\n",
        "import cv2\n",
        "from google.colab.patches import cv2_imshow # パッチファイルインポート\n",
        "\n",
        "#顔検出器の準備\n",
        "classifier = cv2.CascadeClassifier(\"lbpcascade_animeface.xml\")\n",
        "\n",
        "#画像につけるナンバー\n",
        "ver = 1 #読み込む動画を変える毎に変更する（生成する画像ファイルの名前が被らないようにするため）\n",
        "\n",
        "msec = 0　#動画内の時間\n",
        "output_dir = \"faces/\"\n",
        "\n",
        "#動画の読み込み\n",
        "cap = cv2.VideoCapture(\"img/2.MP4\")\n",
        "while(cap.isOpened()):\n",
        "  cap.set(0, msec*1000)\n",
        "  ret, frame = cap.read()\n",
        "  if ret:\n",
        "    #グレースケール化して顔検出し座標を取得\n",
        "    frame = cv2.rotate(frame, cv2.ROTATE_90_COUNTERCLOCKWISE) #なぜか読み込む動画が90度回転してしまっていたため，元に戻す\n",
        "    gray_image = cv2.cvtColor(frame, cv2.COLOR_BGR2GRAY)\n",
        "    faces = classifier.detectMultiScale(gray_image)\n",
        "    \n",
        "    for i, (x, y, w, h) in enumerate(faces):\n",
        "      #表示している画像の時間\n",
        "      print(str(msec) + \"[sec]\")\n",
        "      face_image = frame[y:y+h, x:x+w]\n",
        "\n",
        "      #画像サイズを64*64にリサイズ\n",
        "      face_image_resize = cv2.resize(face_image, (64, 64))\n",
        "\n",
        "      #切り出した顔の表示\n",
        "      cv2_imshow(face_image_resize)\n",
        "\n",
        "      #生成した画像の保存先を指定\n",
        "      output_path = output_dir + \"tmp/{}_{}.jpg\".format(ver, img)\n",
        "\n",
        "      img += 1\n",
        "\n",
        "      #生成した画像の保存\n",
        "      print(\"save \" + output_path)\n",
        "      cv2.imwrite(output_path, face_image_resize)\n",
        "\n",
        "    msec += 0.5\n",
        "\n",
        "  else:\n",
        "    break\n",
        "\n",
        "cap.release()"
      ],
      "metadata": {
        "id": "DJ9vJuKWoh8C",
        "colab": {
          "base_uri": "https://localhost:8080/",
          "height": 244
        },
        "outputId": "e21185b4-f889-40e4-d07d-2f87ffda4aa2"
      },
      "execution_count": null,
      "outputs": [
        {
          "output_type": "error",
          "ename": "KeyboardInterrupt",
          "evalue": "ignored",
          "traceback": [
            "\u001b[0;31m---------------------------------------------------------------------------\u001b[0m",
            "\u001b[0;31mKeyboardInterrupt\u001b[0m                         Traceback (most recent call last)",
            "\u001b[0;32m<ipython-input-3-02110843fe1b>\u001b[0m in \u001b[0;36m<module>\u001b[0;34m()\u001b[0m\n\u001b[1;32m     28\u001b[0m     \u001b[0mframe\u001b[0m \u001b[0;34m=\u001b[0m \u001b[0mcv2\u001b[0m\u001b[0;34m.\u001b[0m\u001b[0mrotate\u001b[0m\u001b[0;34m(\u001b[0m\u001b[0mframe\u001b[0m\u001b[0;34m,\u001b[0m \u001b[0mcv2\u001b[0m\u001b[0;34m.\u001b[0m\u001b[0mROTATE_90_COUNTERCLOCKWISE\u001b[0m\u001b[0;34m)\u001b[0m\u001b[0;34m\u001b[0m\u001b[0;34m\u001b[0m\u001b[0m\n\u001b[1;32m     29\u001b[0m     \u001b[0mgray_image\u001b[0m \u001b[0;34m=\u001b[0m \u001b[0mcv2\u001b[0m\u001b[0;34m.\u001b[0m\u001b[0mcvtColor\u001b[0m\u001b[0;34m(\u001b[0m\u001b[0mframe\u001b[0m\u001b[0;34m,\u001b[0m \u001b[0mcv2\u001b[0m\u001b[0;34m.\u001b[0m\u001b[0mCOLOR_BGR2GRAY\u001b[0m\u001b[0;34m)\u001b[0m\u001b[0;34m\u001b[0m\u001b[0;34m\u001b[0m\u001b[0m\n\u001b[0;32m---> 30\u001b[0;31m     \u001b[0mfaces\u001b[0m \u001b[0;34m=\u001b[0m \u001b[0mclassifier\u001b[0m\u001b[0;34m.\u001b[0m\u001b[0mdetectMultiScale\u001b[0m\u001b[0;34m(\u001b[0m\u001b[0mgray_image\u001b[0m\u001b[0;34m)\u001b[0m\u001b[0;34m\u001b[0m\u001b[0;34m\u001b[0m\u001b[0m\n\u001b[0m\u001b[1;32m     31\u001b[0m     \u001b[0;32mfor\u001b[0m \u001b[0mi\u001b[0m\u001b[0;34m,\u001b[0m \u001b[0;34m(\u001b[0m\u001b[0mx\u001b[0m\u001b[0;34m,\u001b[0m \u001b[0my\u001b[0m\u001b[0;34m,\u001b[0m \u001b[0mw\u001b[0m\u001b[0;34m,\u001b[0m \u001b[0mh\u001b[0m\u001b[0;34m)\u001b[0m \u001b[0;32min\u001b[0m \u001b[0menumerate\u001b[0m\u001b[0;34m(\u001b[0m\u001b[0mfaces\u001b[0m\u001b[0;34m)\u001b[0m\u001b[0;34m:\u001b[0m\u001b[0;34m\u001b[0m\u001b[0;34m\u001b[0m\u001b[0m\n\u001b[1;32m     32\u001b[0m       \u001b[0;31m#表示している画像の時間\u001b[0m\u001b[0;34m\u001b[0m\u001b[0;34m\u001b[0m\u001b[0;34m\u001b[0m\u001b[0m\n",
            "\u001b[0;31mKeyboardInterrupt\u001b[0m: "
          ]
        }
      ]
    }
  ],
  "metadata": {
    "kernelspec": {
      "display_name": "Python 3",
      "language": "python",
      "name": "python3"
    },
    "language_info": {
      "codemirror_mode": {
        "name": "ipython",
        "version": 3
      },
      "file_extension": ".py",
      "mimetype": "text/x-python",
      "name": "python",
      "nbconvert_exporter": "python",
      "pygments_lexer": "ipython3",
      "version": "3.8.3"
    },
    "colab": {
      "name": "detect.ipynb",
      "provenance": []
    },
    "accelerator": "GPU"
  },
  "nbformat": 4,
  "nbformat_minor": 0
}