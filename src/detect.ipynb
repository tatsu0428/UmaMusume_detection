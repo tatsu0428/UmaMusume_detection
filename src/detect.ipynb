{
  "cells": [
    {
      "cell_type": "code",
      "execution_count": 1,
      "metadata": {
        "id": "EG9uXQVjHEx0",
        "outputId": "951e55bc-12a8-468a-c9ab-abb66d5bdceb",
        "colab": {
          "base_uri": "https://localhost:8080/"
        }
      },
      "outputs": [
        {
          "output_type": "stream",
          "name": "stdout",
          "text": [
            "--2022-03-22 12:37:40--  https://raw.githubusercontent.com/nagadomi/lbpcascade_animeface/master/lbpcascade_animeface.xml\n",
            "Resolving raw.githubusercontent.com (raw.githubusercontent.com)... 185.199.108.133, 185.199.109.133, 185.199.110.133, ...\n",
            "Connecting to raw.githubusercontent.com (raw.githubusercontent.com)|185.199.108.133|:443... connected.\n",
            "HTTP request sent, awaiting response... 200 OK\n",
            "Length: 246945 (241K) [text/plain]\n",
            "Saving to: ‘lbpcascade_animeface.xml’\n",
            "\n",
            "\rlbpcascade_animefac   0%[                    ]       0  --.-KB/s               \rlbpcascade_animefac 100%[===================>] 241.16K  --.-KB/s    in 0.03s   \n",
            "\n",
            "2022-03-22 12:37:40 (7.58 MB/s) - ‘lbpcascade_animeface.xml’ saved [246945/246945]\n",
            "\n"
          ]
        }
      ],
      "source": [
        "! wget https://raw.githubusercontent.com/nagadomi/lbpcascade_animeface/master/lbpcascade_animeface.xml"
      ]
    },
    {
      "cell_type": "code",
      "source": [
        "#必要なライブラリをインポート\n",
        "import cv2\n",
        "\n",
        "#顔検出器の準備\n",
        "classifier = cv2.CascadeClassifier(\"lbpcascade_animeface.xml\")\n",
        "\n",
        "#画像につけるナンバーの初期化\n",
        "spe = 0 #スペシャルウィーク\n",
        "sei = 0 #セイウンスカイ\n",
        "king = 0 #キングヘイロー\n",
        "el = 0 #エルコンドルパサー\n",
        "grass = 0 #グラスワンダー\n",
        "\n",
        "msec = 0\n",
        "output_dir = \"./faces/\"\n",
        "\n",
        "#動画の読み込み\n",
        "cap = cv2.VideoCapture(\"./uma/umapyoi.mp4\")\n",
        "while(cap.isOpened()):\n",
        "  cap.set(0, msec*1000)\n",
        "  ret, frame = cap.read()\n",
        "  if ret:\n",
        "    #グレースケール化して顔検出し座標を取得\n",
        "    gray_image = cv2.cvtColor(frame, cv2.COLOR_BGR2GRAY)\n",
        "    faces = classifier.detectMultiScale(gray_image)\n",
        "    for i, (x, y, w, h) in enumerate(faces):\n",
        "      #表示している画像の時間\n",
        "      print(str(msec) + \"[sec]\")\n",
        "      #入力表示\n",
        "      #表示される顔を見て対応する数字を入力する\n",
        "      print(\"1:スペシャルウィーク 2:セイウンスカイ 3:キングヘイロー 4:エルコンドルパサー 5:グラスワンダー\")\n",
        "      #画像全体の表示\n",
        "      cv2.imshow(\"FRAME\", frame)\n",
        "      face_image = frame[y:y+h, x:x+h]\n",
        "      #画像サイズを64*64にリサイズ\n",
        "      face_image_resize = cv2.resize(face_image, (64, 64))\n",
        "      #切り出した顔の表示\n",
        "      cv2.imshow(\"DETECT\", face_image_resize)\n",
        "\n",
        "      flg = cv2.waitKey(0)\n",
        "      if flg == 49: #1が入力された場合，スペシャルウィークとして画像を保存\n",
        "        output_path = output_dir + \"specialweek/{}.jpg\".format(spe)\n",
        "        spe += 1\n",
        "      elif flg == 50: #2が入力された場合，セイウンスカイとして画像を保存\n",
        "        output_path = output_dir + \"seiunsky/{}.jpg\".format(sei)\n",
        "        sei += 1\n",
        "      elif flg == 51: #3が入力された場合，キングヘイローとして画像を保存\n",
        "        output_path = output_dir + \"kinghalo/{}.jpg\".format(king)\n",
        "        king += 1\n",
        "      elif flg == 52: #4が入力された場合，エルコンドルパサーとして画像を保存\n",
        "        output_path = output_dir + \"elcondorpasa/{}.jpg\".format(el)\n",
        "        el += 1\n",
        "      elif flg == 53: #5が入力された場合，グラスワンダーとして画像を保存\n",
        "        output_path = output_dir + \"grasswonder/{}.jpg\".format(grass)\n",
        "        grass += 1\n",
        "      elif flg == 113: #qが入力された場合，画像を保存しない\n",
        "        exit(-1)\n",
        "      print(\"save\" + output_path)\n",
        "      cv2.imwrite(output_path, face_image_resize)\n",
        "    msec += 0.5\n",
        "\n",
        "  else:\n",
        "    break\n",
        "\n",
        "cap.release()"
      ],
      "metadata": {
        "id": "DJ9vJuKWoh8C"
      },
      "execution_count": null,
      "outputs": []
    }
  ],
  "metadata": {
    "kernelspec": {
      "display_name": "Python 3",
      "language": "python",
      "name": "python3"
    },
    "language_info": {
      "codemirror_mode": {
        "name": "ipython",
        "version": 3
      },
      "file_extension": ".py",
      "mimetype": "text/x-python",
      "name": "python",
      "nbconvert_exporter": "python",
      "pygments_lexer": "ipython3",
      "version": "3.8.3"
    },
    "colab": {
      "name": "detect.ipynb",
      "provenance": []
    }
  },
  "nbformat": 4,
  "nbformat_minor": 0
}